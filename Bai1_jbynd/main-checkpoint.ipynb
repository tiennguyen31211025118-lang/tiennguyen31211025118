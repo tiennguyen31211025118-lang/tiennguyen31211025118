{
 "cells": [
  {
   "cell_type": "code",
   "execution_count": 1,
   "id": "b27ef780-f841-4e5a-a596-77c9cdab4ad8",
   "metadata": {},
   "outputs": [
    {
     "name": "stdout",
     "output_type": "stream",
     "text": [
      "10+10=20\n",
      "----------\n"
     ]
    }
   ],
   "source": [
    "%run tinhtong.py"
   ]
  },
  {
   "cell_type": "code",
   "execution_count": 2,
   "id": "5f2b0702-f4bd-4232-b6a9-232d39ca15fd",
   "metadata": {},
   "outputs": [
    {
     "data": {
      "text/plain": [
       "10"
      ]
     },
     "execution_count": 2,
     "metadata": {},
     "output_type": "execute_result"
    }
   ],
   "source": [
    "a"
   ]
  },
  {
   "cell_type": "code",
   "execution_count": 3,
   "id": "1c482fff-6939-4801-8881-c1ed3f10b6a3",
   "metadata": {},
   "outputs": [
    {
     "data": {
      "text/plain": [
       "10"
      ]
     },
     "execution_count": 3,
     "metadata": {},
     "output_type": "execute_result"
    }
   ],
   "source": [
    "b"
   ]
  },
  {
   "cell_type": "code",
   "execution_count": 5,
   "id": "2b3679a0-cbfb-4e5d-a204-d0296a1d8b72",
   "metadata": {},
   "outputs": [
    {
     "name": "stdout",
     "output_type": "stream",
     "text": [
      "Usage: g++ [options] file...\n",
      "Options:\n",
      "  -pass-exit-codes         Exit with highest error code from a phase.\n",
      "  --help                   Display this information.\n",
      "  --target-help            Display target specific command line options (including assembler and linker options).\n",
      "  --help={common|optimizers|params|target|warnings|[^]{joined|separate|undocumented}}[,...].\n",
      "                           Display specific types of command line options.\n",
      "  (Use '-v --help' to display command line options of sub-processes).\n",
      "  --version                Display compiler version information.\n",
      "  -dumpspecs               Display all of the built in spec strings.\n",
      "  -dumpversion             Display the version of the compiler.\n",
      "  -dumpmachine             Display the compiler's target processor.\n",
      "  -foffload=<targets>      Specify offloading targets.\n",
      "  -print-search-dirs       Display the directories in the compiler's search path.\n",
      "  -print-libgcc-file-name  Display the name of the compiler's companion library.\n",
      "  -print-file-name=<lib>   Display the full path to library <lib>.\n",
      "  -print-prog-name=<prog>  Display the full path to compiler component <prog>.\n",
      "  -print-multiarch         Display the target's normalized GNU triplet, used as\n",
      "                           a component in the library path.\n",
      "  -print-multi-directory   Display the root directory for versions of libgcc.\n",
      "  -print-multi-lib         Display the mapping between command line options and\n",
      "                           multiple library search directories.\n",
      "  -print-multi-os-directory Display the relative path to OS libraries.\n",
      "  -print-sysroot           Display the target libraries directory.\n",
      "  -print-sysroot-headers-suffix Display the sysroot suffix used to find headers.\n",
      "  -Wa,<options>            Pass comma-separated <options> on to the assembler.\n",
      "  -Wp,<options>            Pass comma-separated <options> on to the preprocessor.\n",
      "  -Wl,<options>            Pass comma-separated <options> on to the linker.\n",
      "  -Xassembler <arg>        Pass <arg> on to the assembler.\n",
      "  -Xpreprocessor <arg>     Pass <arg> on to the preprocessor.\n",
      "  -Xlinker <arg>           Pass <arg> on to the linker.\n",
      "  -save-temps              Do not delete intermediate files.\n",
      "  -save-temps=<arg>        Do not delete intermediate files.\n",
      "  -no-canonical-prefixes   Do not canonicalize paths when building relative\n",
      "                           prefixes to other gcc components.\n",
      "  -pipe                    Use pipes rather than intermediate files.\n",
      "  -time                    Time the execution of each subprocess.\n",
      "  -specs=<file>            Override built-in specs with the contents of <file>.\n",
      "  -std=<standard>          Assume that the input sources are for <standard>.\n",
      "  --sysroot=<directory>    Use <directory> as the root directory for headers\n",
      "                           and libraries.\n",
      "  -B <directory>           Add <directory> to the compiler's search paths.\n",
      "  -v                       Display the programs invoked by the compiler.\n",
      "  -###                     Like -v but options quoted and commands not executed.\n",
      "  -E                       Preprocess only; do not compile, assemble or link.\n",
      "  -S                       Compile only; do not assemble or link.\n",
      "  -c                       Compile and assemble, but do not link.\n",
      "  -o <file>                Place the output into <file>.\n",
      "  -pie                     Create a dynamically linked position independent\n",
      "                           executable.\n",
      "  -shared                  Create a shared library.\n",
      "  -x <language>            Specify the language of the following input files.\n",
      "                           Permissible languages include: c c++ assembler none\n",
      "                           'none' means revert to the default behavior of\n",
      "                           guessing the language based on the file's extension.\n",
      "\n",
      "Options starting with -g, -f, -m, -O, -W, or --param are automatically\n",
      " passed on to the various sub-processes invoked by g++.  In order to pass\n",
      " other options on to these processes the -W<letter> options must be used.\n",
      "\n",
      "For bug reporting instructions, please see:\n",
      "<file:///usr/share/doc/gcc-13/README.Bugs>.\n"
     ]
    }
   ],
   "source": [
    "!g++ --help"
   ]
  },
  {
   "cell_type": "code",
   "execution_count": 5,
   "id": "d399eba3-07d0-44c4-a77e-b361c0818c1a",
   "metadata": {},
   "outputs": [
    {
     "name": "stdout",
     "output_type": "stream",
     "text": [
      "The value of c is 3."
     ]
    }
   ],
   "source": [
    "!g++ first.cpp -o first  # compile\n",
    "!./first                 # execute"
   ]
  },
  {
   "cell_type": "code",
   "execution_count": 7,
   "id": "2bc69f11-39a7-4f81-ba0a-7994d4276748",
   "metadata": {},
   "outputs": [
    {
     "name": "stdout",
     "output_type": "stream",
     "text": [
      "The value of c is 3.\n"
     ]
    }
   ],
   "source": [
    "!python ./first.py       # interpreter"
   ]
  },
  {
   "cell_type": "code",
   "execution_count": 12,
   "id": "c1fe0aab-9579-430d-86f9-c25cc676d606",
   "metadata": {},
   "outputs": [
    {
     "name": "stdin",
     "output_type": "stream",
     "text": [
      "Num 1:  20\n",
      "Num 2:  12\n"
     ]
    },
    {
     "name": "stdout",
     "output_type": "stream",
     "text": [
      "12.0 20.0\n"
     ]
    }
   ],
   "source": [
    "%run sortnum2_va.py"
   ]
  },
  {
   "cell_type": "code",
   "execution_count": null,
   "id": "155782ad-237f-412a-993f-e50beeedacc4",
   "metadata": {},
   "outputs": [],
   "source": []
  }
 ],
 "metadata": {
  "kernelspec": {
   "display_name": "Python 3 (ipykernel)",
   "language": "python",
   "name": "python3"
  },
  "language_info": {
   "codemirror_mode": {
    "name": "ipython",
    "version": 3
   },
   "file_extension": ".py",
   "mimetype": "text/x-python",
   "name": "python",
   "nbconvert_exporter": "python",
   "pygments_lexer": "ipython3",
   "version": "3.12.1"
  }
 },
 "nbformat": 4,
 "nbformat_minor": 5
}
